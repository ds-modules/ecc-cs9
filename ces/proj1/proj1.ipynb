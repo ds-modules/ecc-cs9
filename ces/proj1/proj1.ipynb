{
 "cells": [
  {
   "cell_type": "code",
   "execution_count": 10,
   "metadata": {
    "deletable": false,
    "editable": false
   },
   "outputs": [],
   "source": [
    "# Initialize Otter\n",
    "import otter\n",
    "grader = otter.Notebook(\"proj1.ipynb\")"
   ]
  },
  {
   "cell_type": "markdown",
   "metadata": {},
   "source": [
    "# Project 1: Cal EnviroScreen"
   ]
  },
  {
   "cell_type": "markdown",
   "metadata": {},
   "source": [
    "**Developers**: Bing Concepcion, James Geronimo, Zcjanin Ollesca"
   ]
  },
  {
   "cell_type": "markdown",
   "metadata": {},
   "source": [
    "---"
   ]
  },
  {
   "cell_type": "markdown",
   "metadata": {},
   "source": [
    "In this project, students will gain experience with fundamental Exploratory Data Analysis? using the CalEnviroScreen data. This project will build on methods introduced in lab. It will also serve as an application of data science in the field of social sciences and **environmental justice**. According to state law, environmental justice refers to the \"fair treatment of people of all races, cultures, and incomes with respect to the development, adoption, implementation and enforcement of environmental laws, regulations, and policies.\" \n",
    "\n",
    "By the end of this project, students will be able to:\n",
    "- Perform basic tabular analysis using pandas and interpret results\n",
    "- Extract data using conditional selection\n",
    "- Visualize and analyze CalEnviroScreen data\n",
    "- Identify how data-driven decision making can guide policy and resource allocation"
   ]
  },
  {
   "cell_type": "markdown",
   "metadata": {},
   "source": [
    "## Table of Contents"
   ]
  },
  {
   "cell_type": "markdown",
   "metadata": {},
   "source": [
    "1. [Introduction](#1.-introduction)\n",
    "2. [Exploratory Data Analysis](#exploratory-data-analysis)\n",
    "3. [Visualizing the Data](#visualizing-the-data)\n",
    "4. [Data-Driven Decision Making](#data-driven-decision-making)"
   ]
  },
  {
   "cell_type": "markdown",
   "metadata": {},
   "source": [
    "### Import Modules"
   ]
  },
  {
   "cell_type": "code",
   "execution_count": 11,
   "metadata": {},
   "outputs": [],
   "source": [
    "import numpy as np\n",
    "import pandas as pd\n",
    "import matplotlib.pyplot as plt\n",
    "import seaborn as sns\n",
    "import geopandas as gpd\n",
    "import seaborn as sns\n",
    "import plotly.express as px\n",
    "import plotly.io as pio\n",
    "pio.renderers.default = \"svg\"\n",
    "pd.set_option(\"display.max_columns\", None)"
   ]
  },
  {
   "cell_type": "markdown",
   "metadata": {},
   "source": [
    "---"
   ]
  },
  {
   "cell_type": "markdown",
   "metadata": {},
   "source": [
    "## 1. Introduction\n"
   ]
  },
  {
   "cell_type": "markdown",
   "metadata": {},
   "source": [
    "The [California Communities Environmental Health Screening Tool](https://oehha.ca.gov/calenviroscreen) (CalEnviroScreen) provides accessible demographic and environmental information to identify communities that are susceptible to certain types of pollution. This tool utilizes environmental, health, and socioeconomic information to produce scores for every census tract in California, allowing us to compare qualities of different communities. "
   ]
  },
  {
   "cell_type": "markdown",
   "metadata": {},
   "source": [
    "### 1.1 Reading in CalEnviroScreen Data"
   ]
  },
  {
   "cell_type": "markdown",
   "metadata": {},
   "source": [
    "To begin exploring CalEnviroScreen, run the following cell to read in the data."
   ]
  },
  {
   "cell_type": "code",
   "execution_count": 12,
   "metadata": {},
   "outputs": [
    {
     "data": {
      "text/html": [
       "<div>\n",
       "<style scoped>\n",
       "    .dataframe tbody tr th:only-of-type {\n",
       "        vertical-align: middle;\n",
       "    }\n",
       "\n",
       "    .dataframe tbody tr th {\n",
       "        vertical-align: top;\n",
       "    }\n",
       "\n",
       "    .dataframe thead th {\n",
       "        text-align: right;\n",
       "    }\n",
       "</style>\n",
       "<table border=\"1\" class=\"dataframe\">\n",
       "  <thead>\n",
       "    <tr style=\"text-align: right;\">\n",
       "      <th></th>\n",
       "      <th>Census Tract</th>\n",
       "      <th>Total Population</th>\n",
       "      <th>California County</th>\n",
       "      <th>ZIP</th>\n",
       "      <th>Approximate Location</th>\n",
       "      <th>Longitude</th>\n",
       "      <th>Latitude</th>\n",
       "      <th>CES 4.0 Score</th>\n",
       "      <th>CES 4.0 Percentile</th>\n",
       "      <th>CES 4.0 Percentile Range</th>\n",
       "      <th>Ozone</th>\n",
       "      <th>Ozone Pctl</th>\n",
       "      <th>PM2.5</th>\n",
       "      <th>PM2.5 Pctl</th>\n",
       "      <th>Diesel PM</th>\n",
       "      <th>Diesel PM Pctl</th>\n",
       "      <th>Drinking Water</th>\n",
       "      <th>Drinking Water Pctl</th>\n",
       "      <th>Lead</th>\n",
       "      <th>Lead Pctl</th>\n",
       "      <th>Pesticides</th>\n",
       "      <th>Pesticides Pctl</th>\n",
       "      <th>Tox. Release</th>\n",
       "      <th>Tox. Release Pctl</th>\n",
       "      <th>Traffic</th>\n",
       "      <th>Traffic Pctl</th>\n",
       "      <th>Cleanup Sites</th>\n",
       "      <th>Cleanup Sites Pctl</th>\n",
       "      <th>Groundwater Threats</th>\n",
       "      <th>Groundwater Threats Pctl</th>\n",
       "      <th>Haz. Waste</th>\n",
       "      <th>Haz. Waste Pctl</th>\n",
       "      <th>Imp. Water Bodies</th>\n",
       "      <th>Imp. Water Bodies Pctl</th>\n",
       "      <th>Solid Waste</th>\n",
       "      <th>Solid Waste Pctl</th>\n",
       "      <th>Pollution Burden</th>\n",
       "      <th>Pollution Burden Score</th>\n",
       "      <th>Pollution Burden Pctl</th>\n",
       "      <th>Asthma</th>\n",
       "      <th>Asthma Pctl</th>\n",
       "      <th>Low Birth Weight</th>\n",
       "      <th>Low Birth Weight Pctl</th>\n",
       "      <th>Cardiovascular Disease</th>\n",
       "      <th>Cardiovascular Disease Pctl</th>\n",
       "      <th>Education</th>\n",
       "      <th>Education Pctl</th>\n",
       "      <th>Linguistic Isolation</th>\n",
       "      <th>Linguistic Isolation Pctl</th>\n",
       "      <th>Poverty</th>\n",
       "      <th>Poverty Pctl</th>\n",
       "      <th>Unemployment</th>\n",
       "      <th>Unemployment Pctl</th>\n",
       "      <th>Housing Burden</th>\n",
       "      <th>Housing Burden Pctl</th>\n",
       "      <th>Pop. Char.</th>\n",
       "      <th>Pop. Char. Score</th>\n",
       "      <th>Pop. Char. Pctl</th>\n",
       "    </tr>\n",
       "  </thead>\n",
       "  <tbody>\n",
       "    <tr>\n",
       "      <th>0</th>\n",
       "      <td>6019001100</td>\n",
       "      <td>-2780</td>\n",
       "      <td>Fresno</td>\n",
       "      <td>93706</td>\n",
       "      <td>Fresno</td>\n",
       "      <td>-119.781696</td>\n",
       "      <td>36.709695</td>\n",
       "      <td>93.18</td>\n",
       "      <td>120.00</td>\n",
       "      <td>95-100% (highest scores)</td>\n",
       "      <td>0.060</td>\n",
       "      <td>82.48</td>\n",
       "      <td>13.906348</td>\n",
       "      <td>97.71</td>\n",
       "      <td>1.123</td>\n",
       "      <td>98.72</td>\n",
       "      <td>733.95</td>\n",
       "      <td>84.39</td>\n",
       "      <td>89.60</td>\n",
       "      <td>96.47</td>\n",
       "      <td>1.00</td>\n",
       "      <td>42.90</td>\n",
       "      <td>4859.094604</td>\n",
       "      <td>92.20</td>\n",
       "      <td>1037.095744</td>\n",
       "      <td>60.38</td>\n",
       "      <td>70.50</td>\n",
       "      <td>98.19</td>\n",
       "      <td>54.25</td>\n",
       "      <td>91.17</td>\n",
       "      <td>3.10</td>\n",
       "      <td>96.31</td>\n",
       "      <td>0</td>\n",
       "      <td>0.00</td>\n",
       "      <td>6.00</td>\n",
       "      <td>79.95</td>\n",
       "      <td>78.98</td>\n",
       "      <td>9.64</td>\n",
       "      <td>99.93</td>\n",
       "      <td>129.54</td>\n",
       "      <td>97.22</td>\n",
       "      <td>7.80</td>\n",
       "      <td>95.62</td>\n",
       "      <td>21.47</td>\n",
       "      <td>92.25</td>\n",
       "      <td>44.5</td>\n",
       "      <td>93.23</td>\n",
       "      <td>16.0</td>\n",
       "      <td>79.37</td>\n",
       "      <td>76.0</td>\n",
       "      <td>98.92</td>\n",
       "      <td>12.8</td>\n",
       "      <td>93.83</td>\n",
       "      <td>30.3</td>\n",
       "      <td>91.04</td>\n",
       "      <td>93.16</td>\n",
       "      <td>9.66</td>\n",
       "      <td>99.72</td>\n",
       "    </tr>\n",
       "    <tr>\n",
       "      <th>1</th>\n",
       "      <td>6077000700</td>\n",
       "      <td>-4680</td>\n",
       "      <td>San Joaquin</td>\n",
       "      <td>95206</td>\n",
       "      <td>Stockton</td>\n",
       "      <td>-121.287873</td>\n",
       "      <td>37.943173</td>\n",
       "      <td>86.65</td>\n",
       "      <td>119.99</td>\n",
       "      <td>95-100% (highest scores)</td>\n",
       "      <td>0.046</td>\n",
       "      <td>44.98</td>\n",
       "      <td>11.884085</td>\n",
       "      <td>72.59</td>\n",
       "      <td>0.538</td>\n",
       "      <td>91.15</td>\n",
       "      <td>389.85</td>\n",
       "      <td>41.55</td>\n",
       "      <td>77.30</td>\n",
       "      <td>86.83</td>\n",
       "      <td>63.13</td>\n",
       "      <td>73.66</td>\n",
       "      <td>519.628001</td>\n",
       "      <td>52.35</td>\n",
       "      <td>856.395935</td>\n",
       "      <td>48.29</td>\n",
       "      <td>61.90</td>\n",
       "      <td>97.46</td>\n",
       "      <td>78.60</td>\n",
       "      <td>95.09</td>\n",
       "      <td>1.27</td>\n",
       "      <td>88.58</td>\n",
       "      <td>13</td>\n",
       "      <td>91.87</td>\n",
       "      <td>9.25</td>\n",
       "      <td>89.28</td>\n",
       "      <td>73.43</td>\n",
       "      <td>8.97</td>\n",
       "      <td>99.29</td>\n",
       "      <td>105.88</td>\n",
       "      <td>94.22</td>\n",
       "      <td>6.88</td>\n",
       "      <td>88.72</td>\n",
       "      <td>20.26</td>\n",
       "      <td>88.12</td>\n",
       "      <td>46.4</td>\n",
       "      <td>94.47</td>\n",
       "      <td>29.7</td>\n",
       "      <td>95.53</td>\n",
       "      <td>73.2</td>\n",
       "      <td>98.39</td>\n",
       "      <td>19.8</td>\n",
       "      <td>99.21</td>\n",
       "      <td>31.2</td>\n",
       "      <td>92.28</td>\n",
       "      <td>93.17</td>\n",
       "      <td>9.66</td>\n",
       "      <td>99.74</td>\n",
       "    </tr>\n",
       "    <tr>\n",
       "      <th>2</th>\n",
       "      <td>6037204920</td>\n",
       "      <td>-2751</td>\n",
       "      <td>Los Angeles</td>\n",
       "      <td>90023</td>\n",
       "      <td>Los Angeles</td>\n",
       "      <td>-118.197497</td>\n",
       "      <td>34.017500</td>\n",
       "      <td>82.39</td>\n",
       "      <td>119.97</td>\n",
       "      <td>95-100% (highest scores)</td>\n",
       "      <td>0.048</td>\n",
       "      <td>53.73</td>\n",
       "      <td>12.251640</td>\n",
       "      <td>89.21</td>\n",
       "      <td>0.781</td>\n",
       "      <td>96.55</td>\n",
       "      <td>787.94</td>\n",
       "      <td>92.53</td>\n",
       "      <td>92.56</td>\n",
       "      <td>98.40</td>\n",
       "      <td>0.00</td>\n",
       "      <td>0.00</td>\n",
       "      <td>3682.693278</td>\n",
       "      <td>87.73</td>\n",
       "      <td>2522.622269</td>\n",
       "      <td>92.84</td>\n",
       "      <td>38.75</td>\n",
       "      <td>92.96</td>\n",
       "      <td>20.50</td>\n",
       "      <td>68.92</td>\n",
       "      <td>11.62</td>\n",
       "      <td>99.66</td>\n",
       "      <td>7</td>\n",
       "      <td>66.74</td>\n",
       "      <td>4.85</td>\n",
       "      <td>73.08</td>\n",
       "      <td>77.67</td>\n",
       "      <td>9.48</td>\n",
       "      <td>99.86</td>\n",
       "      <td>76.10</td>\n",
       "      <td>82.76</td>\n",
       "      <td>7.11</td>\n",
       "      <td>90.89</td>\n",
       "      <td>20.87</td>\n",
       "      <td>90.15</td>\n",
       "      <td>52.2</td>\n",
       "      <td>97.39</td>\n",
       "      <td>17.1</td>\n",
       "      <td>81.55</td>\n",
       "      <td>62.6</td>\n",
       "      <td>93.39</td>\n",
       "      <td>6.4</td>\n",
       "      <td>61.53</td>\n",
       "      <td>20.3</td>\n",
       "      <td>63.97</td>\n",
       "      <td>83.75</td>\n",
       "      <td>8.69</td>\n",
       "      <td>95.79</td>\n",
       "    </tr>\n",
       "    <tr>\n",
       "      <th>3</th>\n",
       "      <td>6019000700</td>\n",
       "      <td>-3664</td>\n",
       "      <td>Fresno</td>\n",
       "      <td>93706</td>\n",
       "      <td>Fresno</td>\n",
       "      <td>-119.827707</td>\n",
       "      <td>36.734535</td>\n",
       "      <td>81.33</td>\n",
       "      <td>119.96</td>\n",
       "      <td>95-100% (highest scores)</td>\n",
       "      <td>0.060</td>\n",
       "      <td>82.48</td>\n",
       "      <td>13.520939</td>\n",
       "      <td>95.88</td>\n",
       "      <td>0.174</td>\n",
       "      <td>57.09</td>\n",
       "      <td>733.95</td>\n",
       "      <td>84.39</td>\n",
       "      <td>68.39</td>\n",
       "      <td>77.00</td>\n",
       "      <td>44.57</td>\n",
       "      <td>71.59</td>\n",
       "      <td>1630.342707</td>\n",
       "      <td>74.93</td>\n",
       "      <td>690.502159</td>\n",
       "      <td>35.28</td>\n",
       "      <td>16.50</td>\n",
       "      <td>77.32</td>\n",
       "      <td>9.50</td>\n",
       "      <td>44.83</td>\n",
       "      <td>2.36</td>\n",
       "      <td>94.12</td>\n",
       "      <td>0</td>\n",
       "      <td>0.00</td>\n",
       "      <td>5.75</td>\n",
       "      <td>78.14</td>\n",
       "      <td>67.85</td>\n",
       "      <td>8.28</td>\n",
       "      <td>97.40</td>\n",
       "      <td>139.45</td>\n",
       "      <td>98.24</td>\n",
       "      <td>10.65</td>\n",
       "      <td>99.78</td>\n",
       "      <td>22.68</td>\n",
       "      <td>94.57</td>\n",
       "      <td>41.4</td>\n",
       "      <td>90.94</td>\n",
       "      <td>15.7</td>\n",
       "      <td>78.71</td>\n",
       "      <td>65.7</td>\n",
       "      <td>95.35</td>\n",
       "      <td>15.7</td>\n",
       "      <td>97.35</td>\n",
       "      <td>35.4</td>\n",
       "      <td>96.41</td>\n",
       "      <td>94.64</td>\n",
       "      <td>9.82</td>\n",
       "      <td>99.89</td>\n",
       "    </tr>\n",
       "    <tr>\n",
       "      <th>4</th>\n",
       "      <td>6019000200</td>\n",
       "      <td>-2689</td>\n",
       "      <td>Fresno</td>\n",
       "      <td>93706</td>\n",
       "      <td>Fresno</td>\n",
       "      <td>-119.805504</td>\n",
       "      <td>36.735491</td>\n",
       "      <td>80.75</td>\n",
       "      <td>119.95</td>\n",
       "      <td>95-100% (highest scores)</td>\n",
       "      <td>0.060</td>\n",
       "      <td>82.48</td>\n",
       "      <td>13.818959</td>\n",
       "      <td>97.47</td>\n",
       "      <td>1.390</td>\n",
       "      <td>99.30</td>\n",
       "      <td>733.95</td>\n",
       "      <td>84.39</td>\n",
       "      <td>75.41</td>\n",
       "      <td>85.12</td>\n",
       "      <td>16.63</td>\n",
       "      <td>64.41</td>\n",
       "      <td>1975.207988</td>\n",
       "      <td>78.96</td>\n",
       "      <td>909.650882</td>\n",
       "      <td>52.26</td>\n",
       "      <td>10.50</td>\n",
       "      <td>62.45</td>\n",
       "      <td>28.25</td>\n",
       "      <td>78.05</td>\n",
       "      <td>0.35</td>\n",
       "      <td>56.40</td>\n",
       "      <td>0</td>\n",
       "      <td>0.00</td>\n",
       "      <td>0.00</td>\n",
       "      <td>0.00</td>\n",
       "      <td>66.83</td>\n",
       "      <td>8.16</td>\n",
       "      <td>96.94</td>\n",
       "      <td>139.08</td>\n",
       "      <td>98.17</td>\n",
       "      <td>10.25</td>\n",
       "      <td>99.67</td>\n",
       "      <td>22.64</td>\n",
       "      <td>94.43</td>\n",
       "      <td>43.6</td>\n",
       "      <td>92.57</td>\n",
       "      <td>20.0</td>\n",
       "      <td>86.56</td>\n",
       "      <td>72.7</td>\n",
       "      <td>98.30</td>\n",
       "      <td>13.7</td>\n",
       "      <td>95.29</td>\n",
       "      <td>32.7</td>\n",
       "      <td>94.16</td>\n",
       "      <td>95.40</td>\n",
       "      <td>9.90</td>\n",
       "      <td>99.95</td>\n",
       "    </tr>\n",
       "  </tbody>\n",
       "</table>\n",
       "</div>"
      ],
      "text/plain": [
       "   Census Tract  Total Population California County    ZIP  \\\n",
       "0    6019001100             -2780           Fresno   93706   \n",
       "1    6077000700             -4680       San Joaquin  95206   \n",
       "2    6037204920             -2751       Los Angeles  90023   \n",
       "3    6019000700             -3664           Fresno   93706   \n",
       "4    6019000200             -2689           Fresno   93706   \n",
       "\n",
       "  Approximate Location   Longitude   Latitude  CES 4.0 Score  \\\n",
       "0               Fresno -119.781696  36.709695          93.18   \n",
       "1             Stockton -121.287873  37.943173          86.65   \n",
       "2          Los Angeles -118.197497  34.017500          82.39   \n",
       "3               Fresno -119.827707  36.734535          81.33   \n",
       "4               Fresno -119.805504  36.735491          80.75   \n",
       "\n",
       "   CES 4.0 Percentile  CES 4.0 Percentile Range  Ozone  Ozone Pctl      PM2.5  \\\n",
       "0              120.00  95-100% (highest scores)  0.060       82.48  13.906348   \n",
       "1              119.99  95-100% (highest scores)  0.046       44.98  11.884085   \n",
       "2              119.97  95-100% (highest scores)  0.048       53.73  12.251640   \n",
       "3              119.96  95-100% (highest scores)  0.060       82.48  13.520939   \n",
       "4              119.95  95-100% (highest scores)  0.060       82.48  13.818959   \n",
       "\n",
       "   PM2.5 Pctl  Diesel PM  Diesel PM Pctl  Drinking Water  Drinking Water Pctl  \\\n",
       "0       97.71      1.123           98.72          733.95                84.39   \n",
       "1       72.59      0.538           91.15          389.85                41.55   \n",
       "2       89.21      0.781           96.55          787.94                92.53   \n",
       "3       95.88      0.174           57.09          733.95                84.39   \n",
       "4       97.47      1.390           99.30          733.95                84.39   \n",
       "\n",
       "    Lead  Lead Pctl  Pesticides  Pesticides Pctl  Tox. Release  \\\n",
       "0  89.60      96.47        1.00            42.90   4859.094604   \n",
       "1  77.30      86.83       63.13            73.66    519.628001   \n",
       "2  92.56      98.40        0.00             0.00   3682.693278   \n",
       "3  68.39      77.00       44.57            71.59   1630.342707   \n",
       "4  75.41      85.12       16.63            64.41   1975.207988   \n",
       "\n",
       "   Tox. Release Pctl      Traffic  Traffic Pctl  Cleanup Sites  \\\n",
       "0              92.20  1037.095744         60.38          70.50   \n",
       "1              52.35   856.395935         48.29          61.90   \n",
       "2              87.73  2522.622269         92.84          38.75   \n",
       "3              74.93   690.502159         35.28          16.50   \n",
       "4              78.96   909.650882         52.26          10.50   \n",
       "\n",
       "   Cleanup Sites Pctl  Groundwater Threats  Groundwater Threats Pctl  \\\n",
       "0               98.19                54.25                     91.17   \n",
       "1               97.46                78.60                     95.09   \n",
       "2               92.96                20.50                     68.92   \n",
       "3               77.32                 9.50                     44.83   \n",
       "4               62.45                28.25                     78.05   \n",
       "\n",
       "   Haz. Waste  Haz. Waste Pctl  Imp. Water Bodies  Imp. Water Bodies Pctl  \\\n",
       "0        3.10            96.31                  0                    0.00   \n",
       "1        1.27            88.58                 13                   91.87   \n",
       "2       11.62            99.66                  7                   66.74   \n",
       "3        2.36            94.12                  0                    0.00   \n",
       "4        0.35            56.40                  0                    0.00   \n",
       "\n",
       "   Solid Waste  Solid Waste Pctl  Pollution Burden  Pollution Burden Score  \\\n",
       "0         6.00             79.95             78.98                    9.64   \n",
       "1         9.25             89.28             73.43                    8.97   \n",
       "2         4.85             73.08             77.67                    9.48   \n",
       "3         5.75             78.14             67.85                    8.28   \n",
       "4         0.00              0.00             66.83                    8.16   \n",
       "\n",
       "   Pollution Burden Pctl  Asthma  Asthma Pctl  Low Birth Weight  \\\n",
       "0                  99.93  129.54        97.22              7.80   \n",
       "1                  99.29  105.88        94.22              6.88   \n",
       "2                  99.86   76.10        82.76              7.11   \n",
       "3                  97.40  139.45        98.24             10.65   \n",
       "4                  96.94  139.08        98.17             10.25   \n",
       "\n",
       "   Low Birth Weight Pctl  Cardiovascular Disease  Cardiovascular Disease Pctl  \\\n",
       "0                  95.62                   21.47                        92.25   \n",
       "1                  88.72                   20.26                        88.12   \n",
       "2                  90.89                   20.87                        90.15   \n",
       "3                  99.78                   22.68                        94.57   \n",
       "4                  99.67                   22.64                        94.43   \n",
       "\n",
       "   Education  Education Pctl  Linguistic Isolation  Linguistic Isolation Pctl  \\\n",
       "0       44.5           93.23                  16.0                      79.37   \n",
       "1       46.4           94.47                  29.7                      95.53   \n",
       "2       52.2           97.39                  17.1                      81.55   \n",
       "3       41.4           90.94                  15.7                      78.71   \n",
       "4       43.6           92.57                  20.0                      86.56   \n",
       "\n",
       "   Poverty  Poverty Pctl  Unemployment  Unemployment Pctl  Housing Burden  \\\n",
       "0     76.0         98.92          12.8              93.83            30.3   \n",
       "1     73.2         98.39          19.8              99.21            31.2   \n",
       "2     62.6         93.39           6.4              61.53            20.3   \n",
       "3     65.7         95.35          15.7              97.35            35.4   \n",
       "4     72.7         98.30          13.7              95.29            32.7   \n",
       "\n",
       "   Housing Burden Pctl  Pop. Char.   Pop. Char. Score  Pop. Char. Pctl  \n",
       "0                91.04        93.16              9.66            99.72  \n",
       "1                92.28        93.17              9.66            99.74  \n",
       "2                63.97        83.75              8.69            95.79  \n",
       "3                96.41        94.64              9.82            99.89  \n",
       "4                94.16        95.40              9.90            99.95  "
      ]
     },
     "execution_count": 12,
     "metadata": {},
     "output_type": "execute_result"
    }
   ],
   "source": [
    "# Read in the data\n",
    "ces = pd.read_csv('modified_cal_enviro_screen.csv')\n",
    "ces.head()"
   ]
  },
  {
   "cell_type": "markdown",
   "metadata": {},
   "source": [
    "Before we begin any tabular analysis, let's familiarize ourselves with this DataFrame by looking at its dimensions and the data types of its columns. Run the following code cell to print the dimensions of `ces`."
   ]
  },
  {
   "cell_type": "markdown",
   "metadata": {},
   "source": [
    "### The Granularity of our Data"
   ]
  },
  {
   "cell_type": "markdown",
   "metadata": {},
   "source": [
    "**Granularity** refers to the *level of detail* captured within a dataset. It defines the **smallest unit of observation**, or  *how* specific the data points are. \n",
    "\n",
    "* A dataset with *high granularity* contains fine-grained, detailed records such as individual transactions and sensor readings.\n",
    "* A dataset with *low granularity* consists of more aggregated information such as monthly sales summaries and regional statistics."
   ]
  },
  {
   "cell_type": "markdown",
   "metadata": {},
   "source": [
    "Each row in the dataset represents a single census tract in California. We can think of a census tract as a small, relatively permanent statistical subdivision of a county, defined by the [U.S. Census Bureau](https://www.census.gov/).\n",
    "\n",
    "The data we have available to us provides environmental and demographic data at this census tract level, including pollution burden indicators (e.g., air quality, hazardous waste sites), as well as some population characteristics (e.g., asthma rates, linguistic isolation, poverty levels). \n",
    "\n",
    "In total, California has around 8,057 census tracts. Let's examine how many we have in our dataset: "
   ]
  },
  {
   "cell_type": "code",
   "execution_count": 13,
   "metadata": {},
   "outputs": [
    {
     "name": "stdout",
     "output_type": "stream",
     "text": [
      "Our version of the CalEnviroScreen data has 8035 rows and 58 columns\n"
     ]
    }
   ],
   "source": [
    "# Run this cell\n",
    "cal_enviro_screen_shape = ces.shape\n",
    "num_rows = cal_enviro_screen_shape[0]\n",
    "num_columns = cal_enviro_screen_shape[1]\n",
    "\n",
    "print(f\"Our version of the CalEnviroScreen data has {num_rows} rows and {num_columns} columns\")"
   ]
  },
  {
   "cell_type": "markdown",
   "metadata": {},
   "source": [
    "Let's take a look and see if all these rows are unique census tracts: "
   ]
  },
  {
   "cell_type": "code",
   "execution_count": 14,
   "metadata": {},
   "outputs": [
    {
     "name": "stdout",
     "output_type": "stream",
     "text": [
      "There are 8035 unique census tracts in our dataset!\n"
     ]
    }
   ],
   "source": [
    "number_unique = ces[\"Census Tract\"].nunique()\n",
    "print(f\"There are {number_unique} unique census tracts in our dataset!\")"
   ]
  },
  {
   "cell_type": "markdown",
   "metadata": {},
   "source": [
    "Great! Our dataset contains 8,305 unique census tracts, matching the total number of rows. This confirms that there are no duplicate entries"
   ]
  },
  {
   "cell_type": "markdown",
   "metadata": {
    "deletable": false,
    "editable": false
   },
   "source": [
    "**Question 1.1.**: Relative to county or state-level data, how would you describe the granularity of the CalEnviroScreen dataset? Assign `relative_granularity` to an integer corresponding to the assumption.\n",
    "\n",
    "1. Lower granularity, because it aggregates data across multiple regions.\n",
    "2. Higher granularity, because it provides more detailed, localized data.\n",
    "3. The same level of granularity as county and state-level data.\n",
    "4. Granularity cannot be determined without individual-level data."
   ]
  },
  {
   "cell_type": "code",
   "execution_count": 23,
   "metadata": {
    "tags": [
     "otter_answer_cell"
    ]
   },
   "outputs": [],
   "source": [
    "relative_granularity = 2"
   ]
  },
  {
   "cell_type": "code",
   "execution_count": 24,
   "metadata": {
    "deletable": false,
    "editable": false
   },
   "outputs": [
    {
     "data": {
      "text/html": [
       "<p><strong><pre style='display: inline;'>q11</pre></strong> passed! 🙌</p>"
      ],
      "text/plain": [
       "q11 results: All test cases passed!"
      ]
     },
     "execution_count": 24,
     "metadata": {},
     "output_type": "execute_result"
    }
   ],
   "source": [
    "grader.check(\"q11\")"
   ]
  },
  {
   "cell_type": "markdown",
   "metadata": {},
   "source": [
    "### Properties of Our Data"
   ]
  },
  {
   "cell_type": "markdown",
   "metadata": {},
   "source": [
    "Now, let's take a look at some of the columns of our DataFrame. We can do so using the `.columns` attribute of DataFrame objects:"
   ]
  },
  {
   "cell_type": "code",
   "execution_count": 25,
   "metadata": {},
   "outputs": [
    {
     "name": "stdout",
     "output_type": "stream",
     "text": [
      "Index(['Census Tract', 'Total Population', 'California County', 'ZIP',\n",
      "       'Approximate Location', 'Longitude', 'Latitude', 'CES 4.0 Score',\n",
      "       'CES 4.0 Percentile', 'CES 4.0 Percentile Range', 'Ozone', 'Ozone Pctl',\n",
      "       'PM2.5', 'PM2.5 Pctl', 'Diesel PM', 'Diesel PM Pctl', 'Drinking Water',\n",
      "       'Drinking Water Pctl', 'Lead', 'Lead Pctl', 'Pesticides',\n",
      "       'Pesticides Pctl', 'Tox. Release', 'Tox. Release Pctl', 'Traffic',\n",
      "       'Traffic Pctl', 'Cleanup Sites', 'Cleanup Sites Pctl',\n",
      "       'Groundwater Threats', 'Groundwater Threats Pctl', 'Haz. Waste',\n",
      "       'Haz. Waste Pctl', 'Imp. Water Bodies', 'Imp. Water Bodies Pctl',\n",
      "       'Solid Waste', 'Solid Waste Pctl', 'Pollution Burden',\n",
      "       'Pollution Burden Score', 'Pollution Burden Pctl', 'Asthma',\n",
      "       'Asthma Pctl', 'Low Birth Weight', 'Low Birth Weight Pctl',\n",
      "       'Cardiovascular Disease', 'Cardiovascular Disease Pctl', 'Education',\n",
      "       'Education Pctl', 'Linguistic Isolation', 'Linguistic Isolation Pctl',\n",
      "       'Poverty', 'Poverty Pctl', 'Unemployment', 'Unemployment Pctl',\n",
      "       'Housing Burden', 'Housing Burden Pctl', 'Pop. Char. ',\n",
      "       'Pop. Char. Score', 'Pop. Char. Pctl'],\n",
      "      dtype='object')\n"
     ]
    }
   ],
   "source": [
    "# Run this cell\n",
    "print(ces.columns)"
   ]
  },
  {
   "cell_type": "markdown",
   "metadata": {},
   "source": [
    "Let's also examine the data types of some of our columns"
   ]
  },
  {
   "cell_type": "code",
   "execution_count": 26,
   "metadata": {},
   "outputs": [
    {
     "data": {
      "text/plain": [
       "Census Tract                  int64\n",
       "Total Population              int64\n",
       "California County            object\n",
       "ZIP                           int64\n",
       "Approximate Location         object\n",
       "Longitude                   float64\n",
       "Latitude                    float64\n",
       "CES 4.0 Score               float64\n",
       "CES 4.0 Percentile          float64\n",
       "CES 4.0 Percentile Range     object\n",
       "dtype: object"
      ]
     },
     "execution_count": 26,
     "metadata": {},
     "output_type": "execute_result"
    }
   ],
   "source": [
    "# Run this cell to return the data type of the first 10 columns of the DataFrame\n",
    "ces.dtypes[:10]"
   ]
  },
  {
   "cell_type": "markdown",
   "metadata": {},
   "source": [
    "### Indicators"
   ]
  },
  {
   "cell_type": "markdown",
   "metadata": {},
   "source": [
    "The Cal Enviroscreen [Indicators Overview](https://oehha.ca.gov/calenviroscreen/indicators-overview) defines an indicator as a measure of environmental and population characteristics, which can then be used to assess the vulnerability of pollution for a specific country. These are grouped into four categories:\n",
    "\n",
    "* Exposure Indicators – Measure pollution levels that people may come into contact with.\n",
    "* Environmental Effects Indicators – Identify toxic chemical sites near communities.\n",
    "* Sensitive Population Indicators – Reflect health conditions or age factors that make individuals more vulnerable to pollution.\n",
    "* Socioeconomic Factor Indicators – Represent social and economic conditions that can increase stress and make communities more susceptible to pollution’s effects.\n",
    "\n",
    "Each indicator is scored separately, contributing to the overall CalEnviroScreen score."
   ]
  },
  {
   "cell_type": "markdown",
   "metadata": {},
   "source": [
    "**Question 1.2.** Select *one* specific indicator from each group and provide a brief description of what it represents, what it measures, and what it's purpose is.  \n",
    "\n",
    "For a full list of these indicators, visit the CalEnviroScreen [Indicators Overview](https://oehha.ca.gov/calenviroscreen/indicators-overview) and scroll to the bottom of the page."
   ]
  },
  {
   "cell_type": "markdown",
   "metadata": {
    "deletable": false,
    "editable": false
   },
   "source": [
    "<!-- BEGIN QUESTION -->\n",
    "\n",
    "**Question 1.2.1.** Find an Exposure Indicator and write a brief description as outlined above."
   ]
  },
  {
   "cell_type": "markdown",
   "metadata": {
    "tags": [
     "otter_answer_cell"
    ]
   },
   "source": [
    "_Type your answer here, replacing this text._"
   ]
  },
  {
   "cell_type": "markdown",
   "metadata": {
    "deletable": false,
    "editable": false
   },
   "source": [
    "<!-- END QUESTION -->\n",
    "\n",
    "<!-- BEGIN QUESTION -->\n",
    "\n",
    "**Question 1.2.2.** Find an Environmental Effects Indicator and write a brief description as outlined above."
   ]
  },
  {
   "cell_type": "markdown",
   "metadata": {
    "tags": [
     "otter_answer_cell"
    ]
   },
   "source": [
    "_Type your answer here, replacing this text._"
   ]
  },
  {
   "cell_type": "markdown",
   "metadata": {
    "deletable": false,
    "editable": false
   },
   "source": [
    "<!-- END QUESTION -->\n",
    "\n",
    "<!-- BEGIN QUESTION -->\n",
    "\n",
    "**Question 1.2.3.** Find an Exposure Indicator and write a brief description as outlined above."
   ]
  },
  {
   "cell_type": "markdown",
   "metadata": {
    "tags": [
     "otter_answer_cell"
    ]
   },
   "source": [
    "_Type your answer here, replacing this text._"
   ]
  },
  {
   "cell_type": "markdown",
   "metadata": {
    "deletable": false,
    "editable": false
   },
   "source": [
    "<!-- END QUESTION -->\n",
    "\n",
    "<!-- BEGIN QUESTION -->\n",
    "\n",
    "**Question 1.2.4.** Find a Socioeconomic Factor Indicator and write a brief description as outlined above."
   ]
  },
  {
   "cell_type": "markdown",
   "metadata": {
    "tags": [
     "otter_answer_cell"
    ]
   },
   "source": [
    "_Type your answer here, replacing this text._"
   ]
  },
  {
   "cell_type": "markdown",
   "metadata": {
    "deletable": false,
    "editable": false
   },
   "source": [
    "<!-- END QUESTION -->\n",
    "\n",
    "### Reading in Community College Data"
   ]
  },
  {
   "cell_type": "markdown",
   "metadata": {},
   "source": [
    "Let's also read in data containing information about the locations of community colleges in California. We will familiarize ourselves with this data the same way we did for `ces`."
   ]
  },
  {
   "cell_type": "code",
   "execution_count": null,
   "metadata": {},
   "outputs": [],
   "source": [
    "# Read in the data\n",
    "colleges = pd.read_excel(\"colleges.xlsx\")\n",
    "colleges.head()"
   ]
  },
  {
   "cell_type": "markdown",
   "metadata": {
    "deletable": false,
    "editable": false
   },
   "source": [
    "<!-- BEGIN QUESTION -->\n",
    "\n",
    "**Question 1.3.** What is the granularity of the `colleges` dataset? What does each row represent? "
   ]
  },
  {
   "cell_type": "markdown",
   "metadata": {
    "tags": [
     "otter_answer_cell"
    ]
   },
   "source": [
    "_Type your answer here, replacing this text._"
   ]
  },
  {
   "cell_type": "markdown",
   "metadata": {
    "deletable": false,
    "editable": false
   },
   "source": [
    "<!-- END QUESTION -->\n",
    "\n",
    "**Question 1.4.** What are the dimensions of the `colleges` dataset? Fill in the code cell with the necessary code and print your answer.\n",
    "\n",
    "Hint: We did this in a previous cell! "
   ]
  },
  {
   "cell_type": "code",
   "execution_count": null,
   "metadata": {
    "tags": [
     "otter_answer_cell"
    ]
   },
   "outputs": [],
   "source": [
    "community_college_shape = ...\n",
    "cc_num_rows = ...\n",
    "cc_num_columns = ...\n",
    "\n",
    "print(f\"The Community College dataset has {cc_num_rows} rows and {cc_num_columns} columns\")"
   ]
  },
  {
   "cell_type": "code",
   "execution_count": null,
   "metadata": {
    "deletable": false,
    "editable": false
   },
   "outputs": [],
   "source": [
    "grader.check(\"q22\")"
   ]
  },
  {
   "cell_type": "markdown",
   "metadata": {
    "deletable": false,
    "editable": false
   },
   "source": [
    "**Question 1.5.** What are the columns of the dataset? List them all below"
   ]
  },
  {
   "cell_type": "code",
   "execution_count": null,
   "metadata": {
    "tags": [
     "otter_answer_cell"
    ]
   },
   "outputs": [],
   "source": [
    "college_columns = ...\n",
    "college_columns"
   ]
  },
  {
   "cell_type": "code",
   "execution_count": null,
   "metadata": {
    "deletable": false,
    "editable": false
   },
   "outputs": [],
   "source": [
    "grader.check(\"q15\")"
   ]
  },
  {
   "cell_type": "markdown",
   "metadata": {
    "deletable": false,
    "editable": false
   },
   "source": [
    "### Merging `ces` and `colleges`"
   ]
  },
  {
   "cell_type": "markdown",
   "metadata": {
    "deletable": false,
    "editable": false
   },
   "source": [
    "Now that we have an understanding of both of our DataFrames, we will merge these two DataFrames to analyze the socioeconomic conditions of various community colleges in California. We can make use of the [`pd.merge()`](https://pandas.pydata.org/docs/reference/api/pandas.DataFrame.merge.html) function in pandas for this. \n",
    "\n",
    "To use `pd.merge()`, we will pass in the following parameters into the function respectively:\n",
    "- The first DataFrame being merged\n",
    "- The second DataFrame being merged\n",
    "- `how` indicates the type of merge to be used\n",
    "- `left_on` and `right_on` parameters are assigned to the string names of the columns to be used when performing the join. These two on parameters tell pandas what values should act as pairing keys to determine which rows to merge across the DataFrames. We’ll talk more about this idea of a pairing key next lecture.\n",
    "\n",
    "We will be using an *inner* merge which will use the intersection of keys from both DataFrames( similar to a SQL inner join). It will preserve the order of the left keys."
   ]
  },
  {
   "cell_type": "markdown",
   "metadata": {
    "deletable": false,
    "editable": false
   },
   "source": [
    "**Question 1.6.** Merge the `ces` and `colleges` dataset\n",
    "\n",
    "*Hint: Feel free to reference the Pandas [documentation](https://pandas.pydata.org/docs/reference/api/pandas.DataFrame.merge.html)*"
   ]
  },
  {
   "cell_type": "code",
   "execution_count": null,
   "metadata": {
    "tags": [
     "otter_answer_cell"
    ]
   },
   "outputs": [],
   "source": [
    "ces_cc = ...\n",
    "ces_cc.shape"
   ]
  },
  {
   "cell_type": "code",
   "execution_count": null,
   "metadata": {
    "deletable": false,
    "editable": false
   },
   "outputs": [],
   "source": [
    "grader.check(\"q16\")"
   ]
  },
  {
   "cell_type": "markdown",
   "metadata": {},
   "source": [
    "---"
   ]
  },
  {
   "cell_type": "markdown",
   "metadata": {},
   "source": [
    "## 2. Exploratory Data Analysis"
   ]
  },
  {
   "cell_type": "markdown",
   "metadata": {},
   "source": [
    "In this next section, we will focus on tabular analysis of the DataFrames that we have constructed. Specifically we will practice utility functions, slicing, conditional selection, and aggregations."
   ]
  },
  {
   "cell_type": "markdown",
   "metadata": {},
   "source": [
    "The attribute, `CES 4.0 Score`, reveals the CalEnviroScreen Score for a given census tract.  Essentially, this score takes into account the `Pollution Burden`, which accounts for factors like air and water quality, and `Population Characteristics`, which assesses the sensitivity of the population to pollution, to measure the socioeconomic conditions across various communities. Higher scores indicate greater cumulative environmental and health burdens. This score aids state agencies, local governments, and community organizations identify communities that are more susceptible to environmental health concerns."
   ]
  },
  {
   "cell_type": "markdown",
   "metadata": {},
   "source": [
    "### 2.1 Utility Functions"
   ]
  },
  {
   "cell_type": "markdown",
   "metadata": {
    "deletable": false,
    "editable": false,
    "vscode": {
     "languageId": "raw"
    }
   },
   "source": [
    "<!-- BEGIN QUESTION -->\n",
    "\n",
    "**Question 2.1.1** Let's take a look again at the `ces_cc` dataset, particularily the values in the `CES 4.0 Percentile` column. What do we notice is strange about these values? Feel free to run the cell below to check. "
   ]
  },
  {
   "cell_type": "raw",
   "metadata": {
    "deletable": false,
    "editable": false,
    "vscode": {
     "languageId": "raw"
    }
   },
   "source": [
    "ces_cc.head(5)"
   ]
  },
  {
   "cell_type": "markdown",
   "metadata": {
    "tags": [
     "otter_answer_cell"
    ]
   },
   "source": [
    "_Type your answer here, replacing this text._"
   ]
  },
  {
   "cell_type": "markdown",
   "metadata": {
    "deletable": false,
    "editable": false,
    "vscode": {
     "languageId": "raw"
    }
   },
   "source": [
    "<!-- END QUESTION -->\n",
    "\n",
    "**Question 2.1.2** Inspect the `CES 4.0 Percentile` column in the ces_cc DataFrame. Identify its minimum and maximum values. Based on these values, determine an appropriate horizontal shift to apply to the entire column. Assign the variable `shift` to the value you would add to each entry in order to adjust the data accordingly.\n",
    "\n",
    "* For example, if we want to subtract 5 from every value, set shift = -5.\n",
    "\n",
    "* If we want to add 5, set shift = 5."
   ]
  },
  {
   "cell_type": "code",
   "execution_count": null,
   "metadata": {
    "tags": [
     "otter_answer_cell"
    ]
   },
   "outputs": [],
   "source": [
    "max_ces_percentile = ...\n",
    "min_ces_percentile = ...\n",
    "shift = ...\n",
    "print(f\"We want to shift our values by {shift}\")"
   ]
  },
  {
   "cell_type": "code",
   "execution_count": null,
   "metadata": {
    "deletable": false,
    "editable": false
   },
   "outputs": [],
   "source": [
    "grader.check(\"q212\")"
   ]
  },
  {
   "cell_type": "markdown",
   "metadata": {
    "deletable": false,
    "editable": false,
    "vscode": {
     "languageId": "raw"
    }
   },
   "source": [
    "**Question 2.1.3** Using your value of `shift` from the previous question, adjust the values in the `CES 4.0 Percentile` column using pandas. Assign the resulting dataframe to `adjusted_ces_cc`"
   ]
  },
  {
   "cell_type": "code",
   "execution_count": null,
   "metadata": {
    "tags": [
     "otter_answer_cell"
    ]
   },
   "outputs": [],
   "source": [
    "adjusted_ces_cc = ...\n",
    "adjusted_ces_cc = ...\n",
    "adjusted_ces_cc.head(5)"
   ]
  },
  {
   "cell_type": "code",
   "execution_count": null,
   "metadata": {
    "deletable": false,
    "editable": false
   },
   "outputs": [],
   "source": [
    "grader.check(\"q213\")"
   ]
  },
  {
   "cell_type": "markdown",
   "metadata": {
    "deletable": false,
    "editable": false,
    "vscode": {
     "languageId": "raw"
    }
   },
   "source": [
    "**Question 2.1.4** Oh no! It looks like all the values in the `Total Population` column of the `adjusted_ces_cc` DataFrame are negative. We've been told these numbers were mistakenly recorded as negative, and they should actually be positive.\n",
    "\n",
    "Create a new DataFrame called `pop_adjusted_ces_cc` that is a copy of `adjusted_ces_cc`, but with all values in the `Total Population` column converted to their positive equivalents."
   ]
  },
  {
   "cell_type": "code",
   "execution_count": null,
   "metadata": {
    "tags": [
     "otter_answer_cell"
    ]
   },
   "outputs": [],
   "source": [
    "pop_adjusted_ces_cc = ...\n",
    "pop_adjusted_ces_cc.head(5)"
   ]
  },
  {
   "cell_type": "code",
   "execution_count": null,
   "metadata": {
    "deletable": false,
    "editable": false
   },
   "outputs": [],
   "source": [
    "grader.check(\"q214\")"
   ]
  },
  {
   "cell_type": "markdown",
   "metadata": {},
   "source": [
    "Now, we will reassign the `ces_cc` variable to our *cleaned* DataFrame in the form of `pop_adjusted_ces_cc`"
   ]
  },
  {
   "cell_type": "raw",
   "metadata": {
    "vscode": {
     "languageId": "raw"
    }
   },
   "source": [
    "ces_cc = pop_adjusted_ces_cc.copy()"
   ]
  },
  {
   "cell_type": "markdown",
   "metadata": {
    "deletable": false,
    "editable": false
   },
   "source": [
    "Now that we've cleaned up our data, let's go about finding the **most** polluted census tracts and show which colleges are impacted.\n",
    "\n",
    "**Question 2.1.5** Write code to find the top 10 most polluted census tracts and display the colleges using the `CES 4.0 Score` column and the `.sort_values()` function in pandas. Assign it to the variable `most_polluted`. \n",
    "\n",
    "If you are feeling stuck, consult the pandas documentation for the function to understand how to use it. Be sure to display the results in *descending* order"
   ]
  },
  {
   "cell_type": "code",
   "execution_count": null,
   "metadata": {
    "tags": [
     "otter_answer_cell"
    ]
   },
   "outputs": [],
   "source": [
    "most_polluted = ...\n",
    "most_polluted"
   ]
  },
  {
   "cell_type": "code",
   "execution_count": null,
   "metadata": {
    "deletable": false,
    "editable": false
   },
   "outputs": [],
   "source": [
    "grader.check(\"q215\")"
   ]
  },
  {
   "cell_type": "markdown",
   "metadata": {
    "deletable": false,
    "editable": false
   },
   "source": [
    "<!-- BEGIN QUESTION -->\n",
    "\n",
    "**Question 2.1.6** We notice that there are two instances of Compton Community College and Fresno Pacific University. Provide a brief explanation for why this could be the case? Feel free to reference the `ces_cc` table as reference. "
   ]
  },
  {
   "cell_type": "markdown",
   "metadata": {
    "tags": [
     "otter_answer_cell"
    ]
   },
   "source": [
    "_Type your answer here, replacing this text._"
   ]
  },
  {
   "cell_type": "markdown",
   "metadata": {
    "deletable": false,
    "editable": false
   },
   "source": [
    "<!-- END QUESTION -->\n",
    "\n",
    "\n",
    "### 2.2: A special case with PM2.5"
   ]
  },
  {
   "cell_type": "markdown",
   "metadata": {},
   "source": [
    "Produced from vehicle emissions, industrial pollution, and wildfires, PM2.5 (Particulate Matter (PM) that is 2.5 micrometers or smaller in diameter) is one of the most dangerous air pollutants. Their tiny size allows them to penetrate deep into the lungs and even enter the bloodstream. Exposure to PM2.5 is linked to respiratory diseases (like asthma and bronchitis), as well as cardiovascular diseases. \n",
    "\n",
    "We typically measured PM2.5 in micrograms per cubic meter (µg/m³) of air. Below is a table showing the potential risks of different `PM2.5` values\n",
    "\n",
    "|PM2.5 (µg/m³) | Air Quality Index (AQI) | Health Concern|\n",
    "|---------------|------------------------|---------------|\n",
    "|0 – 12\t|          Good\t                |Minimal impact\n",
    "|12 – 35.4 |\tModerate |\tUnhealthy for sensitive groups|\n",
    "|35.5 – 55.4\t|Unhealthy\t|Risk for everyone|\n",
    "|55.5 – 150\t|Very Unhealthy|\tHealth warning issued|\n",
    "|150+|\tHazardous|\tEmergency conditions|\n"
   ]
  },
  {
   "cell_type": "markdown",
   "metadata": {},
   "source": [
    "**Question 2.1.2:** Sort the dataset by `PM2.5` concentration (in descending order) and assign the resulting `DataFrame` to the variable `sorted_PM2_5`.\n",
    "\n",
    "*Hint: You may find the `ascending=` parameter of the `.sort_values()` function useful*"
   ]
  },
  {
   "cell_type": "code",
   "execution_count": null,
   "metadata": {},
   "outputs": [],
   "source": [
    "# SOLUTION\n",
    "sorted_PM2_5 = ces_cc.sort_values(by='PM2.5', ascending=False)\n",
    "sorted_PM2_5.head(3)"
   ]
  },
  {
   "cell_type": "markdown",
   "metadata": {},
   "source": [
    "**Question 2.1.3:** Now that we have sorted the `ces` DataFrame by the values in the `PM2.5`, let's now go about **accessing** the highest value! Assign `highest_PM2_5` to the highest `PM2.5` concentration by using the `sorted_PM2_5` Dataframe\n",
    "\n",
    "Make sure you use Pandas code to do this! Don't assign `highest_PM2_5` to just the highest value. "
   ]
  },
  {
   "cell_type": "code",
   "execution_count": null,
   "metadata": {},
   "outputs": [],
   "source": [
    "# SOLUTION\n",
    "highest_PM2_5 = sorted_PM2_5[\"PM2.5\"].iloc[0]\n",
    "highest_PM2_5"
   ]
  },
  {
   "cell_type": "markdown",
   "metadata": {},
   "source": [
    "**Question 2.1.4:** What *Approximate Location* and *county* does this `highest_PM2_5` value come from? Assign these values to `approx_loc_PM2_5` and `county_PM2_5` respectively"
   ]
  },
  {
   "cell_type": "code",
   "execution_count": null,
   "metadata": {},
   "outputs": [],
   "source": [
    "# SOLUTION\n",
    "\n",
    "approx_loc_PM2_5 = sorted_PM2_5[\"Approximate Location\"].iloc[0]\n",
    "county_PM2_5 = sorted_PM2_5[\"California County\"].iloc[0]\n",
    "\n",
    "approx_loc_PM2_5, county_PM2_5"
   ]
  },
  {
   "cell_type": "markdown",
   "metadata": {},
   "source": [
    "**Question 2.1.5:** Based on your answers above, how would you classify the AQI for this Approximate Location? Furthermore, provide 1 reason why you think the `PM2.5` value is as high as it is for this location."
   ]
  },
  {
   "cell_type": "markdown",
   "metadata": {},
   "source": [
    "*SOLUTION: Bakersfield has a PM2.5 score of 15.788, making it a moderate AQI region.*"
   ]
  },
  {
   "cell_type": "markdown",
   "metadata": {},
   "source": [
    "--- "
   ]
  },
  {
   "cell_type": "markdown",
   "metadata": {},
   "source": [
    "**Question 2.1.3:** Take a look at the difference in cities between the most polluted and least polluted census tracts. What do you notice? Are there any characteristics that cities in the most polluted census tracts have in common? What about in the least polluted census tracts? Write 2-3 sentences noting your observations. "
   ]
  },
  {
   "cell_type": "markdown",
   "metadata": {},
   "source": [
    "*YOUR ANSWER HERE...*"
   ]
  },
  {
   "cell_type": "markdown",
   "metadata": {},
   "source": [
    "### 2.2 Filtering and Conditional Selection"
   ]
  },
  {
   "cell_type": "markdown",
   "metadata": {},
   "source": [
    "Let's take a closer look at the census tract for El Camino College. The relevant tract number is **6037603702**. We will be using filtering methods you have learned in lab to find information on El Camino College.\n",
    "\n",
    "**Question 2.2.1:** Filter the dataset using `.loc()` for this tract number and save the DataFrame by assigning it to the variable `ecc` using the code cell below."
   ]
  },
  {
   "cell_type": "code",
   "execution_count": null,
   "metadata": {},
   "outputs": [],
   "source": [
    "# SOLUTION\n",
    "tract_number = 6037603702\n",
    "ecc = ces_cc.loc[ces_cc['Census Tract'] == tract_number]\n",
    "ecc"
   ]
  },
  {
   "cell_type": "markdown",
   "metadata": {},
   "source": [
    "**Question 2.2.2:** Based on this filtered data, let's examine three new measures of environmental health and interpret the scores for El Camino College. Before writing any code let's establish what these measures are. Refer back to the CalEnviroScreen website for context on these three health measures in the data and write definitions for each. "
   ]
  },
  {
   "cell_type": "markdown",
   "metadata": {},
   "source": [
    "- `Pesticides Pctl`: *YOUR ANSWER HERE...*\n",
    "\n",
    "- `asthma_pctl`: *YOUR ANSWER HERE...*\n",
    "- `CES 4.0 Percentile`: *YOUR ANSWER HERE...*"
   ]
  },
  {
   "cell_type": "markdown",
   "metadata": {},
   "source": [
    "Now, write code in the cell below to obtain the values for these metrics, as well as `Pollution Burden Pctl`, for the **El Camino College** census tract. Please use the `.iloc[]` method to filter the DataFrame. "
   ]
  },
  {
   "cell_type": "code",
   "execution_count": null,
   "metadata": {},
   "outputs": [],
   "source": [
    "# TODO: Fill in the ellipses\n",
    "\n",
    "pest_pctl = ...\n",
    "asthma_pctl = ...\n",
    "ces4_pctl = ...\n",
    "plltn_burden_pctl = ..."
   ]
  },
  {
   "cell_type": "code",
   "execution_count": null,
   "metadata": {},
   "outputs": [],
   "source": [
    "# TODO: Fill in the ellipses\n",
    "\n",
    "pm25_pctl = ecc[\"Pesticides Pctl\"].iloc[0]\n",
    "asthma_pctl = ecc[\"Asthma Pctl\"].iloc[0]\n",
    "ces4_pctl = ecc[\"CES 4.0 Percentile\"].iloc[0]\n",
    "plltn_burden_pctl = ecc[\"Pollution Burden Pctl\"].iloc[0]\n",
    "\n",
    "print(f\"Pesticides Pctl: {pm25_pctl} \\nAsthma Pctl: {asthma_pctl} \\nCES 4.0 Percentile {ces4_pctl} \\nPollution Burden Pctl {plltn_burden_pctl}\")"
   ]
  },
  {
   "cell_type": "markdown",
   "metadata": {},
   "source": [
    "**Question 2.2.2.** Briefly describe the real-world implications of at least two of these scores."
   ]
  },
  {
   "cell_type": "markdown",
   "metadata": {},
   "source": [
    "*SOLUTION: Any reasonable answer will receive credit*"
   ]
  },
  {
   "cell_type": "markdown",
   "metadata": {},
   "source": [
    "Let's compare these four measures across other census tracts in **Los Angeles**. "
   ]
  },
  {
   "cell_type": "markdown",
   "metadata": {},
   "source": [
    "**Question 2.2.3:** Using the `ces_cc` dataset, write a line of code to filter the  dataset to contain only Los Angeles county data by using the `City` column. Additionally, make sure only the following columns are included in this new dataset: \n",
    "* `Approximate Location`\n",
    "\n",
    "* `PM2.5 Pctl`\n",
    "\n",
    "* ` CES 4.0 Percentile`\n",
    "* `Asthma Pctl`\n",
    "* `Pollution Burden Pctl`\n",
    "\n",
    "You can use any form of conditional selection for this question (.loc(), boolean conditioning).\n",
    "\n",
    "*Hint: Make sure to pay attention to how cities in the `City` column are formatted. Do you notice anything interesting?*"
   ]
  },
  {
   "cell_type": "code",
   "execution_count": null,
   "metadata": {},
   "outputs": [],
   "source": [
    "# TODO: Filter for Los Angeles data\n",
    "\n",
    "la = ces_cc[ces_cc[\"City\"] == 'LOS ANGELES'][[\"Approximate Location\", \"PM2.5 Pctl\", \"Asthma Pctl\", \"Pollution Burden Pctl\"]]\n",
    "la.head(3)"
   ]
  },
  {
   "cell_type": "markdown",
   "metadata": {},
   "source": [
    "**INSERT SOME KIND OF IMPUTATION QUESTION**"
   ]
  },
  {
   "cell_type": "markdown",
   "metadata": {},
   "source": [
    "### 2.3 Groupby"
   ]
  },
  {
   "cell_type": "markdown",
   "metadata": {},
   "source": [
    "Finally, we are going to use a popular aggregation method you have used in lab, `.groupby()`. As data scientists, we often wish to investigate trends across a larger subset of our data. For example, we may want to compute some summary statistic (the mean, median, sum, etc.) for a group of rows in our DataFrame.  Our goal is to group together rows that fall under the same category and perform an operation that aggregates across all rows in the category. Before you jump into aggregating the data, follow along with the example below for a refresher on the `.groupby()` method.\n",
    "\n",
    "**Demo:** In this example, our goal will be to create a DataFrame that finds the mean `CES 4.0` score by unique `California County`. This demo is adapted from the [Data 100 Textbook](https://ds100.org/course-notes/pandas_3/pandas_3.html#aggregating-data-with-.groupby).\n",
    "\n",
    "The first step to achieve this goal is to call `.groupby()` on the `ces_cc` DataFrame and passing in the necessary column. In this specific case, we want to make groups according to each unique county so we will pass in `California County`. "
   ]
  },
  {
   "cell_type": "code",
   "execution_count": null,
   "metadata": {},
   "outputs": [],
   "source": [
    "# DEMO: Step 1\n",
    "\n",
    "ces_cc.groupby('California County')"
   ]
  },
  {
   "cell_type": "markdown",
   "metadata": {},
   "source": [
    "Calling `.groupby()` alone will not return a viable DataFrame. This returns a `GroupBy` object, which you can imagine as a set of “mini” sub-DataFrames, where each subframe contains all of the rows from `ces_cc` that correspond to a particular county. To actually manipulate values within these “mini” DataFrames, we’ll need to call an *aggregation* method. This is a method that tells `Pandas` how to aggregate the values within the GroupBy object. Once the aggregation is applied, pandas will return a normal (now grouped) DataFrame.\n",
    "\n",
    "One way to call an aggregation method is to call `.agg()` on your GroupBy object. You must specifiy the aggregation function you want to use by passing it into the method call as a numpy function (np.mean, np.sum) or as a string ('mean', 'median', 'size'). In our case, we want to find the mean within each county. \n",
    "\n",
    "There are many other aggregation functions we can use:\n",
    "- `.agg(\"sum\")`\n",
    "- `.agg(\"max\")`\n",
    "- `.agg(\"min\")`\n",
    "- `.agg(\"mean\")`\n",
    "- `.agg(\"first\")`\n",
    "- `.agg(\"last\")`\n",
    "\n",
    "For more information, refer to the `.groupby()` [documentation](https://pandas.pydata.org/pandas-docs/stable/reference/api/pandas.DataFrame.groupby.html)"
   ]
  },
  {
   "cell_type": "code",
   "execution_count": null,
   "metadata": {},
   "outputs": [],
   "source": [
    "# DEMO: Step 2\n",
    "\n",
    "ces_cc.groupby('California County').mean(numeric_only=True).reset_index()"
   ]
  },
  {
   "cell_type": "markdown",
   "metadata": {},
   "source": [
    "Wow! That is a lot of information, and it might be a bit hard to identify which parts are useful. \n",
    "\n",
    "As you can see, our index now becomes the unique county names in the DataFrame and each value is the mean value for that column attribute in each county. We only want to look at the mean `CES 4.0 SCORE` score by county so we will use **double bracket notation** to filter the DataFrame for only this column. While we can perform this step after calling `.agg()`, we can also perform it after calling `.groupby()` to avoid applying the aggregation function on *all* columns of the data. This is good practice when you know which columns you want summary statistics for."
   ]
  },
  {
   "cell_type": "code",
   "execution_count": null,
   "metadata": {},
   "outputs": [],
   "source": [
    "# DEMO: Step 3\n",
    "ces_cc.groupby('California County')[['CES 4.0 Score']].agg('mean')"
   ]
  },
  {
   "cell_type": "markdown",
   "metadata": {},
   "source": [
    "Now we have a new DataFrame that contains information about the mean CES 4.0 score by county!\n",
    "\n",
    "*Bonus Step:* If we want to look at the counties with the highest scores, We can also sort this data by using `.sort_values()`."
   ]
  },
  {
   "cell_type": "code",
   "execution_count": null,
   "metadata": {},
   "outputs": [],
   "source": [
    "# DEMO: Step 4 (optional)\n",
    "\n",
    "ces_cc.groupby('California County')[['CES 4.0 Score']].agg('mean').sort_values('CES 4.0 Score', ascending=False)"
   ]
  },
  {
   "cell_type": "markdown",
   "metadata": {},
   "source": [
    "Now you are ready to try out the `groupby()` function in the next question!"
   ]
  },
  {
   "cell_type": "markdown",
   "metadata": {},
   "source": [
    "Let's take a look at some of the unique values in the `California County` column. Do we notice anything interesting about some of these values?\n",
    "\n",
    "Hint: Try looking at the second and third values below and see if there's anything wrong! \n",
    "\n"
   ]
  },
  {
   "cell_type": "code",
   "execution_count": null,
   "metadata": {},
   "outputs": [],
   "source": [
    "ces_cc['California County'].unique()"
   ]
  },
  {
   "cell_type": "markdown",
   "metadata": {},
   "source": [
    "**Question 2.3.1** Think of a way to use the `.str.strip()` method to fix the column labels! "
   ]
  },
  {
   "cell_type": "code",
   "execution_count": null,
   "metadata": {},
   "outputs": [],
   "source": [
    "ces_cc['California County'] = ces_cc['California County'].str.strip()"
   ]
  },
  {
   "cell_type": "markdown",
   "metadata": {},
   "source": [
    "Let's verify that our unique values *did* indeed change! "
   ]
  },
  {
   "cell_type": "code",
   "execution_count": null,
   "metadata": {},
   "outputs": [],
   "source": [
    "ces_cc['California County'].unique()"
   ]
  },
  {
   "cell_type": "markdown",
   "metadata": {},
   "source": [
    "**Question 2.3.2:** With the `la` DataFrame, find the mean value for each of these four metrics (`CES 4.0 Score`, `PM2.5`, `Asthma`, and `Pollution Burden Score`) based on the unique `City`. Assign this new dataset to a new DataFrame. "
   ]
  },
  {
   "cell_type": "code",
   "execution_count": null,
   "metadata": {},
   "outputs": [],
   "source": [
    "la"
   ]
  },
  {
   "cell_type": "code",
   "execution_count": null,
   "metadata": {},
   "outputs": [],
   "source": [
    "# TODO: Write code to find the mean of PM2.5, CES4.0, Asthma, and Pollution Burden percentiles by city\n",
    "\n",
    "city_means = ...\n",
    "city_means"
   ]
  },
  {
   "cell_type": "markdown",
   "metadata": {},
   "source": [
    "**Question 2.3.3:** Now instead of the mean, return the *median* value for each of the same four metrics based on the unique city."
   ]
  },
  {
   "cell_type": "code",
   "execution_count": null,
   "metadata": {},
   "outputs": [],
   "source": [
    "# TODO: Write code to find the median of PM2.5, CES4.0, Asthma, and Pollution Burden percentiles by city\n",
    "\n",
    "city_medians = ..."
   ]
  },
  {
   "cell_type": "markdown",
   "metadata": {},
   "source": [
    "We can also make use of custom aggregation functions using `.groupby()`. To do so, let's create a custom function called `calc_IQR` returns the Interquartile Range of a set of values"
   ]
  },
  {
   "cell_type": "markdown",
   "metadata": {},
   "source": [
    "**Question 2.3.4:** Fill in the code for the function `calc_IQR` such that it calculates the Interquartile Range of a sequence of values. You can assume that the input to this function will be a Series object. "
   ]
  },
  {
   "cell_type": "code",
   "execution_count": null,
   "metadata": {},
   "outputs": [],
   "source": [
    "#SOLUTION\n",
    "def calc_IQR(sequence): \n",
    "    return np.percentile(sequence, 75) - np.percentile(sequence, 25)\n"
   ]
  },
  {
   "cell_type": "markdown",
   "metadata": {},
   "source": [
    "**Question 2.3.5:** Now, use the function to find the `IQR range` of `CES 4.0 Score` and output that in the table and sort these IQR values in descending order. Call this table `CES_IQR`"
   ]
  },
  {
   "cell_type": "code",
   "execution_count": null,
   "metadata": {},
   "outputs": [],
   "source": [
    "CES_IQR = ces_cc.groupby('California County')[['CES 4.0 Score']].agg(calc_IQR).sort_values(\"CES 4.0 Score\", ascending= False).rename(columns={'CES 4.0 Score': 'IQR diference in CES 4.0 Score'})\n",
    "CES_IQR"
   ]
  },
  {
   "cell_type": "markdown",
   "metadata": {},
   "source": [
    "**Question 2.3.6:** Looking at the bottom two values, we notice that the counties Siskiyou and Imperial have an IQR difference of 0. Why do you think this could be? Explain your reasoning."
   ]
  },
  {
   "cell_type": "markdown",
   "metadata": {},
   "source": [
    "*Type your answer here*"
   ]
  },
  {
   "cell_type": "markdown",
   "metadata": {},
   "source": [
    "---"
   ]
  },
  {
   "cell_type": "markdown",
   "metadata": {},
   "source": [
    "## 3. Visualizing the Data"
   ]
  },
  {
   "cell_type": "markdown",
   "metadata": {},
   "source": [
    "In conducting exploratory data analysis, we often perform **tabular analysis** (as we did in the previous section) for organizing and summarizing the data. However, tabular analysis may fall short in the ability to capture complex trends, patterns, or relationships within the data. This is especially true when dealing with large datasets where patterns may be more difficult to interpret by solely examining the rows of a DataFrame. **Data visualizations** address these limitations by transforming tabular data into intuitive visual displays that leverage human perception to identify patterns and trends. \n",
    "\n",
    "This portion of the notebook will motivate the importance of visualizations with the use of standard plotting libraries like [`seaborn`](https://seaborn.pydata.org/) and [`matplotlib`](https://matplotlib.org/stable/). "
   ]
  },
  {
   "cell_type": "markdown",
   "metadata": {},
   "source": [
    "### 3.1 Histograms"
   ]
  },
  {
   "cell_type": "markdown",
   "metadata": {},
   "source": [
    "For the purpose of visualization, will be focusing on eight column attributes from the `ces_cc` DataFrame. Run the code cell below to save the subset as a new DataFrame"
   ]
  },
  {
   "cell_type": "code",
   "execution_count": null,
   "metadata": {},
   "outputs": [],
   "source": [
    "# Run this code cell\n",
    "\n",
    "ces_subset = ces_cc[['CES 4.0 Score', 'PM2.5', 'Asthma', 'Pollution Burden Score', 'Low Birth Weight', 'Education','Poverty', 'Housing Burden']]"
   ]
  },
  {
   "cell_type": "markdown",
   "metadata": {},
   "source": [
    "Let's take a look at the **distributions** of some of the columns in `ces_subset` to get a better sense of the data. Rememeber that a distribution describes both the set of values that a single variable can take and the frequency of unique values in a single variable. To do so, we will plot a histogram using seaborn's [`.histplot()`](https://seaborn.pydata.org/generated/seaborn.histplot.html) function to observe the distribution of `CES 4.0 Score` across census tracts. Run the code cell below to familiarize yourself with the syntax of the function. Here, we pass an additional parameter, `stat='density'`, to visualize the distribution in terms of density rather than frequency. "
   ]
  },
  {
   "cell_type": "code",
   "execution_count": null,
   "metadata": {},
   "outputs": [],
   "source": [
    "sns.histplot(ces_subset, x='CES 4.0 Score', stat='density')\n",
    "plt.title('The Distribution of CES 4.0 Score Across Census Tracts');"
   ]
  },
  {
   "cell_type": "markdown",
   "metadata": {},
   "source": [
    "Run the following cell:"
   ]
  },
  {
   "cell_type": "code",
   "execution_count": null,
   "metadata": {},
   "outputs": [],
   "source": [
    "from utils import *\n",
    "\n",
    "display(ui)"
   ]
  },
  {
   "cell_type": "markdown",
   "metadata": {},
   "source": [
    "**Question 3.1.1:** Create a histogram based on one of the columns, using the widget above and write a couple of sentences describing the shape of this histogram. What do you notice?"
   ]
  },
  {
   "cell_type": "markdown",
   "metadata": {},
   "source": [
    "*Type your answer here*"
   ]
  },
  {
   "cell_type": "markdown",
   "metadata": {},
   "source": [
    "**Question 3.1.1:** Write 1-2 sentences describing the distribution of `CES 4.0 score` based on the histogram above."
   ]
  },
  {
   "cell_type": "markdown",
   "metadata": {},
   "source": [
    "*YOUR ANSWER HERE...*"
   ]
  },
  {
   "cell_type": "markdown",
   "metadata": {},
   "source": [
    "**Question 3.1.1:** Plot a histogram showing the distribution of `Asthma` across census tracts using `ces_set`. Be sure to include a title for your plot. "
   ]
  },
  {
   "cell_type": "code",
   "execution_count": null,
   "metadata": {},
   "outputs": [],
   "source": [
    "# TODO: Write code to plot a histogram of Asthma using seaborn\n",
    "\n",
    "... "
   ]
  },
  {
   "cell_type": "markdown",
   "metadata": {},
   "source": [
    "Describe the distribution in 1-2 sentences."
   ]
  },
  {
   "cell_type": "markdown",
   "metadata": {},
   "source": [
    "*YOUR ANSWER HERE...*"
   ]
  },
  {
   "cell_type": "markdown",
   "metadata": {},
   "source": [
    "### 3.2 Violin Plots"
   ]
  },
  {
   "cell_type": "markdown",
   "metadata": {},
   "source": [
    "What if we went to compare the distributions of multiple attributes at once? We can use a **violin plot** which shows the distribution of data points after grouping by one (or more) variables. To create a violin plot, we will use seaborn's `.violinplot()` function. For more information, refer to the function [documentation](https://seaborn.pydata.org/generated/seaborn.violinplot.html)."
   ]
  },
  {
   "cell_type": "code",
   "execution_count": null,
   "metadata": {},
   "outputs": [],
   "source": [
    "# Run this code cell\n",
    "\n",
    "cities = ['Los Angeles', 'San Bernardino', 'East Los Angeles', 'Compton']\n",
    "ces_cities = ces[['Approximate Location', 'CES 4.0 Score', 'PM2.5', 'Asthma', 'Pollution Burden Score', 'Low Birth Weight', 'Education','Poverty', 'Housing Burden']]\n",
    "ces_cities = ces_cities[ces_cities['Approximate Location'].isin(cities)]"
   ]
  },
  {
   "cell_type": "code",
   "execution_count": null,
   "metadata": {},
   "outputs": [],
   "source": [
    "sns.violinplot(ces_cities, x='Approximate Location', y='CES 4.0 Score');"
   ]
  },
  {
   "cell_type": "markdown",
   "metadata": {},
   "source": [
    "**Question 3.2.1:** Write down 2-3 observations based on the violinplot above."
   ]
  },
  {
   "cell_type": "markdown",
   "metadata": {},
   "source": [
    "*YOUR ANSWER HERE...*"
   ]
  },
  {
   "cell_type": "markdown",
   "metadata": {},
   "source": [
    "### 3.3 Correlations"
   ]
  },
  {
   "cell_type": "markdown",
   "metadata": {},
   "source": [
    "For the final part of the visualization section, we will briefly discuss how visualizations can help our understanding of relationships between column attributes in our data. \n",
    "\n",
    "First, we will begin with pairplots in seaborn. Pairplots allow us to visualize pairwise relationships of column attributes in our data. To create a pairplot, we will call [`.pairplot()`](https://seaborn.pydata.org/generated/seaborn.pairplot.html) and pass in a DataFrame. This will create an $n x n$ grid of plots where n is the number of columns in our data. The histograms along the diagonal of a pairplot describe the distributions of each column attribute. The remaining scatterplots depict the relationship between two columns in the data. Run the following code cell to generate a pairplot. "
   ]
  },
  {
   "cell_type": "code",
   "execution_count": null,
   "metadata": {},
   "outputs": [],
   "source": [
    "sns.pairplot(ces_subset);"
   ]
  },
  {
   "cell_type": "markdown",
   "metadata": {},
   "source": [
    "**Question 3.3.1:** From this plot we can see that `Poverty` and `Housing Burden` seem to have a positive, linear relationship which is indicated the scatter of points that fall along a line with a positive slope. What other relationships do you see in the pairplot?"
   ]
  },
  {
   "cell_type": "markdown",
   "metadata": {},
   "source": [
    "*YOUR ANSWER HERE...*"
   ]
  },
  {
   "cell_type": "markdown",
   "metadata": {},
   "source": [
    "We can also draw some simple, but powerful analyses by observing the correlation between variables in our data. The code cell below computes the correlation coefficient between various socioeconomic variables in our data and plots a **heatmap** of these coefficients. A heatmap is a visualization that represents the magnitude of values using color. It allows us to easily observe the magnitudes of correlation across pairs of variables.\n",
    "\n",
    "Run the code cell below and interpret the heatmap."
   ]
  },
  {
   "cell_type": "code",
   "execution_count": null,
   "metadata": {},
   "outputs": [],
   "source": [
    "# Create a correlation matrix\n",
    "corr_matrix = ces_subset.corr()\n",
    "\n",
    "# Plot the heatmap\n",
    "plt.figure(figsize=(8, 6))\n",
    "sns.heatmap(corr_matrix, annot=True, cmap='coolwarm', vmin=-1, vmax=1)\n",
    "plt.title('Correlation Between Population Characteristics and Pollution Burden')\n",
    "plt.show()"
   ]
  },
  {
   "cell_type": "markdown",
   "metadata": {},
   "source": [
    "**Question 3.3.2:** Which variables are strongly correlated with each other, in either the positive or negative direction? Why might these variables be strongly correlated with one another?"
   ]
  },
  {
   "cell_type": "markdown",
   "metadata": {},
   "source": [
    "*YOUR ANSWER HERE...*"
   ]
  },
  {
   "cell_type": "markdown",
   "metadata": {},
   "source": [
    "### 3.4 (Optional) Geopandas Section"
   ]
  },
  {
   "cell_type": "markdown",
   "metadata": {},
   "source": [
    "CalEnviroScreen is also a mapping tool that allows us to visualize the socioeconomic disparities across California. We will be using a package called `geopandas` to facilitate this mapping. "
   ]
  },
  {
   "cell_type": "markdown",
   "metadata": {},
   "source": [
    "The following code cell reads in a shape file (.shp) and contains information that will allow us to map the data using geopandas. A shapefile is a popular geospatial vector data format that stores the geometry of the features in our data. They are common for handling geospatial data. Simply run the cell below to read in the shapefile associated with CalEnviroScreen."
   ]
  },
  {
   "cell_type": "code",
   "execution_count": null,
   "metadata": {},
   "outputs": [],
   "source": [
    "# Run this code cell\n",
    "\n",
    "file_path = 'calenviroscreen40shpf2021shp/CES4 Final Shapefile.shp'\n",
    "gdf = gpd.read_file(file_path)\n",
    "gdf.head()"
   ]
  },
  {
   "cell_type": "markdown",
   "metadata": {},
   "source": [
    "We can call `.plot()` to map the data."
   ]
  },
  {
   "cell_type": "code",
   "execution_count": null,
   "metadata": {},
   "outputs": [],
   "source": [
    "# map the data\n",
    "gdf.plot()"
   ]
  },
  {
   "cell_type": "markdown",
   "metadata": {},
   "source": [
    "**Question 3.4.1:** Like we did with the `ces` and `colleges` DataFrames, let's merge the gdf data with collegecodes_public. Following the format from before, merge the necessary datasets on zipcode. "
   ]
  },
  {
   "cell_type": "code",
   "execution_count": null,
   "metadata": {},
   "outputs": [],
   "source": [
    "# TODO: Fill in the ellipses\n",
    "\n",
    "enviro_cc_shp = pd.merge(..., ..., how=..., left_on=..., right_on=...)\n",
    "enviro_cc_shp.head()"
   ]
  },
  {
   "cell_type": "markdown",
   "metadata": {},
   "source": [
    "We can use geopandas to visualize the spread of our metrics, like `Pollution Burden`. Run the following code cell below. The left plot displays the spread of pollution burden score across California and the right plot displays the spread of poverty across California.  "
   ]
  },
  {
   "cell_type": "code",
   "execution_count": null,
   "metadata": {},
   "outputs": [],
   "source": [
    "# Create a figure with subplots to compare pollution burden and population vulnerability\n",
    "fig, ax = plt.subplots(1, 2, figsize=(15, 7))\n",
    "\n",
    "# Plot Pollution Burden on the left\n",
    "gdf.plot(column='PolBurdSc', ax=ax[0], legend=True, cmap='OrRd')\n",
    "ax[0].set_title('Pollution Burden Score')\n",
    "\n",
    "# Plot Population Vulnerability on the right (example with 'Poverty' column)\n",
    "gdf.plot(column='Poverty', ax=ax[1], legend=True, cmap='PuBu')\n",
    "ax[1].set_title('Population Vulnerability (Poverty)')\n",
    "\n",
    "plt.show()"
   ]
  },
  {
   "cell_type": "markdown",
   "metadata": {},
   "source": [
    "**Question:** List an observation from each plot and how it relates to environmental justice.  "
   ]
  },
  {
   "cell_type": "markdown",
   "metadata": {},
   "source": [
    "*YOUR ANSWER HERE...*"
   ]
  },
  {
   "cell_type": "markdown",
   "metadata": {},
   "source": [
    "---"
   ]
  },
  {
   "cell_type": "markdown",
   "metadata": {},
   "source": [
    "## 4. Data-driven Decision Making"
   ]
  },
  {
   "cell_type": "markdown",
   "metadata": {},
   "source": [
    "Throughout this notebook, you gained valuable information about how to manipulate data to draw powerful analyses about socioeconomic disparaties across Los Angeles and California. Tools like CalEnviroScreen are essential for evaluating environmnetal justice because they help identify and prioritize communities that face higher environmnetal and health risks due to disproportionate effects of pollution. "
   ]
  },
  {
   "cell_type": "markdown",
   "metadata": {},
   "source": [
    "**Question 4.1:** Can you think of how an analysis of two other variables in the data not used in this notebook may be helpful for identifying marginalized communities? You may use the optional code cell as scratch work."
   ]
  },
  {
   "cell_type": "markdown",
   "metadata": {},
   "source": [
    "*YOUR ANSWER HERE...*"
   ]
  },
  {
   "cell_type": "code",
   "execution_count": null,
   "metadata": {},
   "outputs": [],
   "source": [
    "# Optional code cell for scratch work"
   ]
  },
  {
   "cell_type": "markdown",
   "metadata": {},
   "source": [
    "**Question 4.2:** In 3-4 sentences, how might access to CalEnviroScreen data help guide resource allocation and inform policymaking? How might different stakeholders (e.g., local governments, advocacy groups, researchers) use CalEnviroScreen data differently? Give examples of specific decisions or actions they might take."
   ]
  },
  {
   "cell_type": "markdown",
   "metadata": {},
   "source": [
    "*YOUR ANSWER HERE...*"
   ]
  },
  {
   "cell_type": "markdown",
   "metadata": {},
   "source": [
    "**Question 4.3:** Finally, when working with data it is important to address the fundamental concept of **bias**. What potential biases might exist in the CalEnviroScreen data collection or analysis process? How could these biases impact the conclusions drawn from the data?"
   ]
  },
  {
   "cell_type": "markdown",
   "metadata": {},
   "source": [
    "*YOUR ANSWER HERE...*"
   ]
  },
  {
   "cell_type": "markdown",
   "metadata": {},
   "source": [
    "---"
   ]
  },
  {
   "cell_type": "markdown",
   "metadata": {},
   "source": [
    "# Congratulations, you are finished with the notebook!"
   ]
  },
  {
   "cell_type": "markdown",
   "metadata": {},
   "source": [
    "---"
   ]
  },
  {
   "cell_type": "markdown",
   "metadata": {
    "deletable": false,
    "editable": false
   },
   "source": [
    "## Submission\n",
    "\n",
    "Make sure you have run all cells in your notebook in order before running the cell below, so that all images/graphs appear in the output. The cell below will generate a zip file for you to submit. **Please save before exporting!**\n",
    "\n",
    "These are some submission instructions."
   ]
  },
  {
   "cell_type": "code",
   "execution_count": null,
   "metadata": {
    "deletable": false,
    "editable": false
   },
   "outputs": [],
   "source": [
    "# Save your notebook first, then run this cell to export your submission.\n",
    "grader.export(run_tests=True)"
   ]
  },
  {
   "cell_type": "markdown",
   "metadata": {},
   "source": [
    " "
   ]
  }
 ],
 "metadata": {
  "kernelspec": {
   "display_name": "ecc-bio",
   "language": "python",
   "name": "python3"
  },
  "language_info": {
   "codemirror_mode": {
    "name": "ipython",
    "version": 3
   },
   "file_extension": ".py",
   "mimetype": "text/x-python",
   "name": "python",
   "nbconvert_exporter": "python",
   "pygments_lexer": "ipython3",
   "version": "3.9.21"
  },
  "otter": {
   "OK_FORMAT": true,
   "tests": {
    "q11": {
     "name": "q11",
     "points": null,
     "suites": [
      {
       "cases": [
        {
         "code": ">>> type(relative_granularity) == int\nTrue",
         "hidden": false,
         "locked": false
        },
        {
         "code": ">>> relative_granularity - 4 <= 0\nTrue",
         "hidden": false,
         "locked": false
        },
        {
         "code": ">>> (relative_granularity - 1) * 5 + (relative_granularity != 2) * 0 == 5\nTrue",
         "hidden": false,
         "locked": false
        }
       ],
       "scored": true,
       "setup": "",
       "teardown": "",
       "type": "doctest"
      }
     ]
    },
    "q15": {
     "name": "q15",
     "points": null,
     "suites": [
      {
       "cases": [
        {
         "code": ">>> len(college_columns) == 7\nTrue",
         "hidden": false,
         "locked": false
        },
        {
         "code": ">>> type(college_columns) == pd.core.indexes.base.Index\nTrue",
         "hidden": false,
         "locked": false
        }
       ],
       "scored": true,
       "setup": "",
       "teardown": "",
       "type": "doctest"
      }
     ]
    },
    "q16": {
     "name": "q16",
     "points": null,
     "suites": [
      {
       "cases": [
        {
         "code": ">>> ces_cc.shape == (1043, 65)\nTrue",
         "hidden": false,
         "locked": false
        },
        {
         "code": ">>> len(ces_cc.columns) == 65\nTrue",
         "hidden": false,
         "locked": false
        },
        {
         "code": ">>> ces_cc.iloc[0, 4] == 'Compton'\nTrue",
         "hidden": false,
         "locked": false
        },
        {
         "code": ">>> ces_cc.iloc[3, 61] == 'CA'\nTrue",
         "hidden": false,
         "locked": false
        }
       ],
       "scored": true,
       "setup": "",
       "teardown": "",
       "type": "doctest"
      }
     ]
    },
    "q212": {
     "name": "q212",
     "points": null,
     "suites": [
      {
       "cases": [
        {
         "code": ">>> max_ces_percentile == 119.94\nTrue",
         "hidden": false,
         "locked": false
        },
        {
         "code": ">>> min_ces_percentile == 20.01\nTrue",
         "hidden": false,
         "locked": false
        },
        {
         "code": ">>> shift < 0\nTrue",
         "hidden": false,
         "locked": false
        }
       ],
       "scored": true,
       "setup": "",
       "teardown": "",
       "type": "doctest"
      }
     ]
    },
    "q213": {
     "name": "q213",
     "points": null,
     "suites": [
      {
       "cases": [
        {
         "code": ">>> sum(adjusted_ces_cc.iloc[:5, :]['Total Population'] == pd.Series([-3306, -4669, -7155, -4735, -3099])) == 5\nTrue",
         "hidden": false,
         "locked": false
        },
        {
         "code": ">>> len(adjusted_ces_cc['CES 4.0 Percentile'] <= 100.0) == adjusted_ces_cc.shape[0]\nTrue",
         "hidden": false,
         "locked": false
        },
        {
         "code": ">>> max(adjusted_ces_cc['CES 4.0 Percentile']) == 99.94\nTrue",
         "hidden": false,
         "locked": false
        }
       ],
       "scored": true,
       "setup": "",
       "teardown": "",
       "type": "doctest"
      }
     ]
    },
    "q214": {
     "name": "q214",
     "points": null,
     "suites": [
      {
       "cases": [
        {
         "code": ">>> len(pop_adjusted_ces_cc['Total Population'] >= 0) == pop_adjusted_ces_cc.shape[0]\nTrue",
         "hidden": false,
         "locked": false
        },
        {
         "code": ">>> max(pop_adjusted_ces_cc['Total Population']) == 21531\nTrue",
         "hidden": false,
         "locked": false
        },
        {
         "code": ">>> pop_adjusted_ces_cc.shape == adjusted_ces_cc.shape\nTrue",
         "hidden": false,
         "locked": false
        },
        {
         "code": ">>> pop_adjusted_ces_cc.shape == ces_cc.shape\nTrue",
         "hidden": false,
         "locked": false
        }
       ],
       "scored": true,
       "setup": "",
       "teardown": "",
       "type": "doctest"
      }
     ]
    },
    "q215": {
     "name": "q215",
     "points": null,
     "suites": [
      {
       "cases": [
        {
         "code": ">>> len(most_polluted) == 10\nTrue",
         "hidden": false,
         "locked": false
        },
        {
         "code": ">>> most_polluted[0] == 'COMPTON CMTY COLLEGE'\nTrue",
         "hidden": false,
         "locked": false
        },
        {
         "code": ">>> most_polluted[9] == 'MERCED COLLEGE'\nTrue",
         "hidden": false,
         "locked": false
        },
        {
         "code": ">>> sum(most_polluted == 'FRESNO PACIFIC UNIVERSITY') == 2\nTrue",
         "hidden": false,
         "locked": false
        },
        {
         "code": ">>> sum(most_polluted == 'COMPTON CMTY COLLEGE') == 3\nTrue",
         "hidden": false,
         "locked": false
        }
       ],
       "scored": true,
       "setup": "",
       "teardown": "",
       "type": "doctest"
      }
     ]
    },
    "q22": {
     "name": "q22",
     "points": null,
     "suites": [
      {
       "cases": [
        {
         "code": ">>> type(community_college_shape) == tuple\nTrue",
         "hidden": false,
         "locked": false
        },
        {
         "code": ">>> type(cc_num_rows) and type(cc_num_columns) == int\nTrue",
         "hidden": false,
         "locked": false
        },
        {
         "code": ">>> (cc_num_rows == 173) * 234 == 234\nTrue",
         "hidden": false,
         "locked": false
        },
        {
         "code": ">>> (cc_num_columns == 7) * 265 == 265\nTrue",
         "hidden": false,
         "locked": false
        }
       ],
       "scored": true,
       "setup": "",
       "teardown": "",
       "type": "doctest"
      }
     ]
    }
   }
  }
 },
 "nbformat": 4,
 "nbformat_minor": 4
}
